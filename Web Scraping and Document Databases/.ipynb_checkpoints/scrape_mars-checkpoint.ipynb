{
 "cells": [
  {
   "cell_type": "code",
   "execution_count": 2,
   "metadata": {},
   "outputs": [],
   "source": [
    "import os\n",
    "from bs4 import BeautifulSoup\n",
    "import requests\n",
    "import pandas\n",
    "from splinter import Browser\n",
    "import time\n",
    "import shutil\n",
    "import re"
   ]
  },
  {
   "cell_type": "code",
   "execution_count": 9,
   "metadata": {},
   "outputs": [],
   "source": [
    "def scrape():\n",
    "\n",
    "    executable_path = {'executable_path': 'chromedriver.exe'}\n",
    "    browser = Browser('chrome', **executable_path, headless=False)\n",
    "\n",
    "    marsdata = {}\n",
    "\n",
    "    url = 'https://mars.nasa.gov/news/'\n",
    "    response = requests.get(url)\n",
    "    soup = BeautifulSoup(response.text, 'html.parser')\n",
    "    \n",
    "    # Print Title\n",
    "    news_title = soup.title.text\n",
    "    \n",
    "    # Print all paragraph texts\n",
    "    paragraphs = soup.find_all('p')\n",
    "    for paragraph in paragraphs:\n",
    "        print(paragraph.text)\n",
    "    news_p = paragraph.text\n",
    "    \n",
    "    # add our last news and last paraghraph to to Marse_data \n",
    "    marsdata[\"news_title\"] = news_title\n",
    "    marsdata[\"news_p\"] = news_p\n",
    "    \n",
    "    #Mars Image\n",
    "    url = 'https://www.jpl.nasa.gov/spaceimages/?search=&category=Mars'\n",
    "    browser.visit(url)\n",
    "    find_by_xpath = '//*[@id=\"page\"]/section[3]/div/ul/li[10]/a/div/div[2]/img'\n",
    "    img = browser.find_by_xpath(find_by_xpath)\n",
    "    img.click()\n",
    "    full_size = browser.html\n",
    "    soup = BeautifulSoup(full_size, 'html.parser')\n",
    "    img = soup.find('div',class_='fancybox-inner')\n",
    "    featured_image_url = img.find('img')['src']\n",
    "    marsdata[\"featured_image_url\"] = featured_image_url\n",
    "    \n",
    "    # Mars Weather\n",
    "    mars_weather=soup.find(string=re.compile(\"Sol\"))\n",
    "    marsdata[\"mars_weather\"] = mars_weather\n",
    "    \n",
    "    # Space Facts\n",
    "    url = 'https://space-facts.com/mars/'\n",
    "    browser.visit(url)\n",
    "    for i in browser.find_by_tag('td'):\n",
    "        i.text\n",
    "    head = []\n",
    "    data = []\n",
    "    for r in range(len(browser.find_by_tag('td'))):\n",
    "        if r % 2 == 0:\n",
    "            head.append(browser.find_by_tag('td')[r].text)\n",
    "        else:\n",
    "            data.append(browser.find_by_tag('td')[r].text)\n",
    "    mars_facts = list(zip(head,data))\n",
    "    marsdata[\"Mars_facts\"] = mars_facts\n",
    "\n",
    "    # Mars Hemispheres\n",
    "    url='https://astrogeology.usgs.gov/search/results?q=hemisphere+enhanced&k1=target&v1=Mars'\n",
    "    browser.visit(url)\n",
    "    links = ['Cerberus', 'Schiaparelli', 'Syrtis' , 'Valles']\n",
    "    hemisphere_image_urls=[]\n",
    "    links = ['Cerberus', 'Schiaparelli', 'Syrtis' , 'Valles']\n",
    "    hemisphere_image_urls=[]\n",
    "    for link in links:\n",
    "        hemisphere_image_urls_dic={}\n",
    "        link_click = browser.find_link_by_partial_text(link)\n",
    "        link_click.click()\n",
    "        time.sleep(15)\n",
    "    # `   browser.is_element_present_by_css(\"img.wide-image\", wait_time=10)\n",
    "        html = browser.html\n",
    "        soup = BeautifulSoup(html, 'html.parser')\n",
    "        image_url=soup.find(\"img\",class_=\"wide-image\")[\"src\"]\n",
    "        title=soup.find(\"h2\",class_=\"title\").text\n",
    "        if \"https://astrogeology.usgs.gov:\" not in image_url: image_url = \"https://astrogeology.usgs.gov\"+image_url\n",
    "        hemisphere_image_urls_dic['title'] = title\n",
    "        hemisphere_image_urls_dic['image_url']=image_url\n",
    "        hemisphere_image_urls.append(hemisphere_image_urls_dic)\n",
    "        browser.back()\n",
    "        marsdata[\"hemisphere_title_urls\"] = hemisphere_image_urls     \n",
    "        browser.quit()\n",
    "        return marsdata\n"
   ]
  },
  {
   "cell_type": "code",
   "execution_count": 10,
   "metadata": {},
   "outputs": [
    {
     "name": "stdout",
     "output_type": "stream",
     "text": [
      "Managed by the Mars Exploration Program and the Jet Propulsion Laboratory for NASA’s Science Mission Directorate\n"
     ]
    },
    {
     "ename": "TypeError",
     "evalue": "'NoneType' object is not subscriptable",
     "output_type": "error",
     "traceback": [
      "\u001b[1;31m---------------------------------------------------------------------------\u001b[0m",
      "\u001b[1;31mTypeError\u001b[0m                                 Traceback (most recent call last)",
      "\u001b[1;32m<ipython-input-10-20ef00fd5394>\u001b[0m in \u001b[0;36m<module>\u001b[1;34m()\u001b[0m\n\u001b[1;32m----> 1\u001b[1;33m \u001b[0mscrape\u001b[0m\u001b[1;33m(\u001b[0m\u001b[1;33m)\u001b[0m\u001b[1;33m\u001b[0m\u001b[0m\n\u001b[0m",
      "\u001b[1;32m<ipython-input-9-0fb3c768a1e6>\u001b[0m in \u001b[0;36mscrape\u001b[1;34m()\u001b[0m\n\u001b[0;32m     32\u001b[0m     \u001b[0msoup\u001b[0m \u001b[1;33m=\u001b[0m \u001b[0mBeautifulSoup\u001b[0m\u001b[1;33m(\u001b[0m\u001b[0mfull_size\u001b[0m\u001b[1;33m,\u001b[0m \u001b[1;34m'html.parser'\u001b[0m\u001b[1;33m)\u001b[0m\u001b[1;33m\u001b[0m\u001b[0m\n\u001b[0;32m     33\u001b[0m     \u001b[0mimg\u001b[0m \u001b[1;33m=\u001b[0m \u001b[0msoup\u001b[0m\u001b[1;33m.\u001b[0m\u001b[0mfind\u001b[0m\u001b[1;33m(\u001b[0m\u001b[1;34m'div'\u001b[0m\u001b[1;33m,\u001b[0m\u001b[0mclass_\u001b[0m\u001b[1;33m=\u001b[0m\u001b[1;34m'fancybox-inner'\u001b[0m\u001b[1;33m)\u001b[0m\u001b[1;33m\u001b[0m\u001b[0m\n\u001b[1;32m---> 34\u001b[1;33m     \u001b[0mfeatured_image_url\u001b[0m \u001b[1;33m=\u001b[0m \u001b[0mimg\u001b[0m\u001b[1;33m.\u001b[0m\u001b[0mfind\u001b[0m\u001b[1;33m(\u001b[0m\u001b[1;34m'img'\u001b[0m\u001b[1;33m)\u001b[0m\u001b[1;33m[\u001b[0m\u001b[1;34m'src'\u001b[0m\u001b[1;33m]\u001b[0m\u001b[1;33m\u001b[0m\u001b[0m\n\u001b[0m\u001b[0;32m     35\u001b[0m     \u001b[0mmarsdata\u001b[0m\u001b[1;33m[\u001b[0m\u001b[1;34m\"featured_image_url\"\u001b[0m\u001b[1;33m]\u001b[0m \u001b[1;33m=\u001b[0m \u001b[0mfeatured_image_url\u001b[0m\u001b[1;33m\u001b[0m\u001b[0m\n\u001b[0;32m     36\u001b[0m \u001b[1;33m\u001b[0m\u001b[0m\n",
      "\u001b[1;31mTypeError\u001b[0m: 'NoneType' object is not subscriptable"
     ]
    }
   ],
   "source": [
    "scrape()"
   ]
  },
  {
   "cell_type": "code",
   "execution_count": null,
   "metadata": {},
   "outputs": [],
   "source": []
  }
 ],
 "metadata": {
  "kernelspec": {
   "display_name": "Python (pythondata)",
   "language": "python",
   "name": "pythondata"
  },
  "language_info": {
   "codemirror_mode": {
    "name": "ipython",
    "version": 3
   },
   "file_extension": ".py",
   "mimetype": "text/x-python",
   "name": "python",
   "nbconvert_exporter": "python",
   "pygments_lexer": "ipython3",
   "version": "3.6.5"
  }
 },
 "nbformat": 4,
 "nbformat_minor": 2
}
