{
 "cells": [
  {
   "cell_type": "code",
   "execution_count": 63,
   "metadata": {},
   "outputs": [],
   "source": [
    "import os\n",
    "import csv\n",
    "from pathlib import Path"
   ]
  },
  {
   "cell_type": "code",
   "execution_count": 64,
   "metadata": {},
   "outputs": [],
   "source": [
    "pybank_csv = ('./budget_data.csv')"
   ]
  },
  {
   "cell_type": "code",
   "execution_count": 65,
   "metadata": {},
   "outputs": [],
   "source": [
    "#Count: The total number of months included in the dataset\n",
    "#Total: The total net amount of \"Profit/Losses\" over the entire period\n",
    "#Average: The average change in \"Profit/Losses\" between months over the entire period\n",
    "#greatest_increase: The greatest increase in profits (date and amount) over the entire period\n",
    "#greatest_decrease: The greatest decrease in losses (date and amount) over the entire period\n",
    "#poslist is the list of +numbers\n",
    "#neglist is the list of negative numbers\n",
    "#MaxMonth is value to hold the greatest increase in profits-date\n",
    "#MinMonth is value to hold greatest decrease in losses-date\n",
    "#1 counting number of months and Toatl value:"
   ]
  },
  {
   "cell_type": "code",
   "execution_count": 74,
   "metadata": {},
   "outputs": [],
   "source": [
    "Totals = []\n",
    "Average = []\n",
    "value = []\n",
    "date = []\n",
    "minimum = 0 \n",
    "maximum = 0 \n",
    "Total = 0 \n",
    "count = 0 \n",
    "\n",
    "\n",
    "with open ('budget_data.csv', newline=\"\") as csvfile:\n",
    "    csvreader = csv.reader(csvfile, delimiter=\",\")\n",
    "    csv_header = next(csvfile)\n",
    "#looping in data\n",
    "    for row in csvreader:\n",
    "        count +=1\n",
    "        Total += int(row[1])\n",
    "        # make new list from row 1 \n",
    "        value.append(int(row[1]))\n",
    "        date.append(row[0])\n",
    "        Totals = list(zip(value, date))"
   ]
  },
  {
   "cell_type": "code",
   "execution_count": 85,
   "metadata": {},
   "outputs": [],
   "source": [
    "# making average list\n",
    "for i in range((len(value)-1)):\n",
    "    differenceValue = int((value[i+1] - value[i]))\n",
    "    Average.append(differenceValue)\n",
    "    \n",
    "#zip lists of columns\n",
    "for i in range(len(Totals) - 1):\n",
    "    if int(Totals[i][0]) >= maximum:\n",
    "        maximum = int(Totals[i][0])\n",
    "        greatest_increase = maximum - int(Totals[i-1][0])\n",
    "        MaxMonth = Totals[i][1]\n",
    "    elif int(Totals[i][0])<minimum:\n",
    "        minimum = int(Totals[i][0])\n",
    "        greatest_decrease = minimum - int(Totals[i-1][0])\n",
    "        MinMonth = Totals[i][1]"
   ]
  },
  {
   "cell_type": "code",
   "execution_count": 86,
   "metadata": {},
   "outputs": [
    {
     "name": "stdout",
     "output_type": "stream",
     "text": [
      "The total net amount of Profit in the dataset :  $38382578\n",
      "The total number of months included in the dataset : 86\n",
      "The average change in Profit/Losses : -2315.1176470588234\n",
      "The greatest increase in profits : Feb-12 $1926159\n",
      "The greatest decrease in profits : Sep-13 $-2196167\n"
     ]
    }
   ],
   "source": [
    "print(\"The total net amount of Profit in the dataset\" + \" : \" + \" $\" + str(Total))\n",
    "print(\"The total number of months included in the dataset\"+\" : \" + str(count))\n",
    "print(\"The average change in Profit/Losses\" + \" : \"+  str((sum(Average)/len(Average))))\n",
    "print(\"The greatest increase in profits\" + \" : \" + MaxMonth + \" $\" + str(greatest_increase))\n",
    "print(\"The greatest decrease in profits\" + \" : \" + MinMonth + \" $\" + str(greatest_decrease))"
   ]
  },
  {
   "cell_type": "code",
   "execution_count": null,
   "metadata": {},
   "outputs": [],
   "source": []
  }
 ],
 "metadata": {
  "kernelspec": {
   "display_name": "Python 3",
   "language": "python",
   "name": "python3"
  },
  "language_info": {
   "codemirror_mode": {
    "name": "ipython",
    "version": 3
   },
   "file_extension": ".py",
   "mimetype": "text/x-python",
   "name": "python",
   "nbconvert_exporter": "python",
   "pygments_lexer": "ipython3",
   "version": "3.6.5"
  }
 },
 "nbformat": 4,
 "nbformat_minor": 2
}
